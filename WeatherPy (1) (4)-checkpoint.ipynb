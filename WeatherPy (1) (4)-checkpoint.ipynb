{
 "cells": [
  {
   "cell_type": "markdown",
   "metadata": {},
   "source": [
    "# WeatherPy\n",
    "----\n",
    "\n",
    "#### Note\n",
    "* Instructions have been included for each segment. You do not have to follow them exactly, but they are included to help you think through the steps."
   ]
  },
  {
   "cell_type": "code",
   "execution_count": 1,
   "metadata": {
    "scrolled": true
   },
   "outputs": [],
   "source": [
    "\n",
    "# Dependencies and Setup\n",
    "import matplotlib.pyplot as plt\n",
    "import pandas as pd\n",
    "import numpy as np\n",
    "import requests\n",
    "import time\n",
    "import json\n",
    "import scipy.stats as st\n",
    "from scipy.stats import linregress\n",
    "\n",
    "#Import citipy\n",
    "from citipy import citipy\n",
    "\n",
    "#File to load\n",
    "output_data_file = \"output_data/cities.csv\"\n",
    "\n",
    "# Import API key\n",
    "weather_api_key =\"3186b99e174ba4fa33980cf26a2c93b3\"\n",
    "\n",
    "\n",
    "#set latitude and longitude\n",
    "latitude_range = (-90,90)\n",
    "longitude_range = (-180,180)"
   ]
  },
  {
   "cell_type": "markdown",
   "metadata": {},
   "source": [
    "# Generate Cities List Your first requirement is to c:\n",
    "\n",
    "* Temperature (F) vs. Latitude\n",
    "* Humidity (%) vs. Latitude\n",
    "* Cloudiness (%) vs. Latitude\n",
    "* Wind Speed (mph) vs. Latitude\n",
    "\n",
    "After each plot add a sentence or too explaining what the code is and analyzing.\n"
   ]
  },
  {
   "cell_type": "code",
   "execution_count": 2,
   "metadata": {},
   "outputs": [
    {
     "name": "stdout",
     "output_type": "stream",
     "text": [
      "595\n"
     ]
    }
   ],
   "source": [
    "#https://geopandas.readthedocs.io/en/latest/gallery/create_geopandas_from_pandas.html\n",
    "#create a series of scatter plots to showcase the following relationships\n",
    "\n",
    "lat_lngs = []\n",
    "cities = []\n",
    "\n",
    "# Create a set of random lat and lng combinations\n",
    "lats = np.random.uniform(low=-90.000, high=90.000, size=1500)\n",
    "lngs = np.random.uniform(low=-180.000, high=180.000, size=1500)\n",
    "lat_lngs = zip(lats, lngs)\n",
    "\n",
    "# Identify nearest city for each lat, lng combination\n",
    "for lat_lng in lat_lngs:\n",
    "    city = citipy.nearest_city(lat_lng[0], lat_lng[1]).city_name\n",
    "    \n",
    "    # If the city is unique, then add it to a our cities list\n",
    "    if city not in cities:\n",
    "        cities.append(city)\n",
    "\n",
    "# Print the city count to confirm sufficient count\n",
    "print(len(cities))"
   ]
  },
  {
   "cell_type": "code",
   "execution_count": 6,
   "metadata": {},
   "outputs": [],
   "source": [
    "#lists for dataframe\n",
    "city_name = []\n",
    "cloudiness = []\n",
    "country = []\n",
    "date = []\n",
    "humidity = []\n",
    "lat = []\n",
    "lng = []\n",
    "max_temp = []\n",
    "wind_speed = []\n",
    "\n",
    "\n",
    "query_url = \"http://api.openweathermap.org/data/2.5/weather?units=Imperial&\""
   ]
  },
  {
   "cell_type": "markdown",
   "metadata": {},
   "source": [
    "### Perform API Calls\n",
    "* Perform a weather check on each city using a series of successive API calls.\n",
    "* Include a print log of each city as it's being processed (with the city number and city name).\n"
   ]
  },
  {
   "cell_type": "code",
   "execution_count": 12,
   "metadata": {
    "scrolled": true
   },
   "outputs": [
    {
     "name": "stdout",
     "output_type": "stream",
     "text": [
      "-----Start------\n",
      "-----Begin-----\n",
      "Processing Record 0 | mataura\n",
      "Processing Record 1 | kontagora\n",
      "Processing Record 2 | kahului\n",
      "Processing Record 3 | kapaa\n",
      "Processing Record 4 | new norfolk\n",
      "Processing Record 5 | nikolskoye\n",
      "Processing Record 6 | tuktoyaktuk\n",
      "Processing Record 7 | east london\n",
      "Processing Record 8 | srostki\n",
      "Processing Record 9 | kununurra\n",
      "Processing Record 10 | comodoro rivadavia\n",
      "Processing Record 11 | nanortalik\n",
      "Processing Record 12 | butaritari\n",
      "Processing Record 13 | pacifica\n",
      "Processing Record 14 | itarema\n",
      "Processing Record 15 | hauterive\n",
      "Processing Record 16 | hithadhoo\n",
      "Processing Record 17 | puerto ayora\n",
      "Processing Record 18 | pangnirtung\n",
      "Processing Record 19 | tuatapere\n",
      "Processing Record 20 | santarem\n",
      "Processing Record 21 | rikitea\n",
      "Processing Record 22 | carnarvon\n",
      "Processing Record 23 | yellowknife\n",
      "Processing Record 24 | port alfred\n",
      "Processing Record 25 | mehran\n",
      "Processing Record 26 | ponta do sol\n",
      "taolanaro not found\n",
      "Processing Record 28 | manggar\n",
      "Processing Record 29 | isiro\n",
      "Processing Record 30 | jumla\n",
      "Processing Record 31 | alpena\n",
      "nizhneyansk not found\n",
      "Processing Record 33 | praia da vitoria\n",
      "Processing Record 34 | pemangkat\n",
      "Processing Record 35 | kashi\n",
      "samusu not found\n",
      "illoqqortoormiut not found\n",
      "Processing Record 38 | tiksi\n",
      "Processing Record 39 | jamestown\n",
      "Processing Record 40 | lazaro cardenas\n",
      "sorvag not found\n",
      "Processing Record 42 | ushuaia\n",
      "Processing Record 43 | knysna\n",
      "Processing Record 44 | bluff\n",
      "Processing Record 45 | sistranda\n",
      "Processing Record 46 | khatanga\n",
      "Processing Record 47 | busselton\n",
      "Processing Record 48 | antofagasta\n",
      "Processing Record 49 | lompoc\n",
      "Processing Record 50 | san cristobal\n",
      "Processing Record 51 | vaini\n",
      "Processing Record 52 | hermanus\n",
      "Processing Record 53 | cabo san lucas\n",
      "Processing Record 54 | bethel\n",
      "Processing Record 55 | zhigansk\n",
      "Processing Record 56 | castro\n",
      "Processing Record 57 | punta arenas\n",
      "Processing Record 58 | bambous virieux\n",
      "Processing Record 59 | codrington\n",
      "Processing Record 60 | santa cruz das palmeiras\n",
      "Processing Record 61 | ternate\n",
      "Processing Record 62 | shache\n",
      "Processing Record 63 | albany\n",
      "Processing Record 64 | verkhnevilyuysk\n",
      "Processing Record 65 | cape town\n",
      "Processing Record 66 | mayo\n",
      "Processing Record 67 | kirakira\n",
      "Processing Record 68 | sao felix do xingu\n",
      "Processing Record 69 | namatanai\n",
      "Processing Record 70 | lavrentiya\n",
      "Processing Record 71 | bredasdorp\n",
      "Processing Record 72 | petropavlovsk-kamchatskiy\n",
      "Processing Record 73 | victoria\n",
      "Processing Record 74 | kurilsk\n",
      "Processing Record 75 | norman wells\n",
      "tilsonburg not found\n",
      "Processing Record 77 | cardston\n",
      "Processing Record 78 | biak\n",
      "belushya guba not found\n",
      "Processing Record 80 | korla\n",
      "Processing Record 81 | chuy\n",
      "Processing Record 82 | hilo\n",
      "Processing Record 83 | rabo de peixe\n",
      "Processing Record 84 | berlevag\n",
      "Processing Record 85 | vila franca do campo\n",
      "Processing Record 86 | dumbrava rosie\n",
      "Processing Record 87 | mar del plata\n",
      "Processing Record 88 | odweyne\n",
      "Processing Record 89 | chingirlau\n",
      "Processing Record 90 | mount isa\n",
      "tuggurt not found\n",
      "Processing Record 92 | kavieng\n",
      "Processing Record 93 | hobart\n",
      "Processing Record 94 | atuona\n",
      "Processing Record 95 | lakatoro\n",
      "Processing Record 96 | mehamn\n",
      "Processing Record 97 | hayden\n",
      "Processing Record 98 | kodiak\n",
      "Processing Record 99 | port hedland\n",
      "Processing Record 100 | beohari\n",
      "Processing Record 101 | iquitos\n",
      "Processing Record 102 | isangel\n",
      "Processing Record 103 | mugur-aksy\n",
      "Processing Record 104 | farmington\n",
      "Processing Record 105 | beloha\n",
      "Processing Record 106 | los llanos de aridane\n",
      "Processing Record 107 | tasiilaq\n",
      "Processing Record 108 | tual\n",
      "Processing Record 109 | iqaluit\n",
      "saleaula not found\n",
      "jiroft not found\n",
      "Processing Record 112 | pokhara\n",
      "Processing Record 113 | weihe\n",
      "Processing Record 114 | caravelas\n",
      "Processing Record 115 | aljezur\n",
      "sentyabrskiy not found\n",
      "Processing Record 117 | miraflores\n",
      "Processing Record 118 | luderitz\n",
      "Processing Record 119 | sajanan\n",
      "Processing Record 120 | salalah\n",
      "Processing Record 121 | fortuna\n",
      "Processing Record 122 | estevan\n",
      "Processing Record 123 | hasaki\n",
      "Processing Record 124 | varzob\n",
      "Processing Record 125 | kamenka\n",
      "Processing Record 126 | saint-philippe\n",
      "Processing Record 127 | hamilton\n",
      "Processing Record 128 | karratha\n",
      "Processing Record 129 | byron bay\n",
      "Processing Record 130 | georgetown\n",
      "Processing Record 131 | nelson bay\n",
      "Processing Record 132 | thompson\n",
      "Processing Record 133 | wobulenzi\n",
      "Processing Record 134 | gat\n",
      "Processing Record 135 | lebu\n",
      "Processing Record 136 | upernavik\n",
      "Processing Record 137 | boguchany\n",
      "Processing Record 138 | haines junction\n",
      "Processing Record 139 | pouebo\n",
      "Processing Record 140 | igarka\n",
      "Processing Record 141 | mahebourg\n",
      "Processing Record 142 | guerrero negro\n",
      "Processing Record 143 | acapulco\n",
      "Processing Record 144 | saskylakh\n",
      "Processing Record 145 | sinnamary\n",
      "Processing Record 146 | la union\n",
      "Processing Record 147 | wasilla\n",
      "Processing Record 148 | unecha\n",
      "Processing Record 149 | andover\n",
      "Processing Record 150 | gizo\n",
      "Processing Record 151 | port moresby\n",
      "Processing Record 152 | zhanakorgan\n",
      "Processing Record 153 | fiche\n",
      "Processing Record 154 | chokurdakh\n",
      "Processing Record 155 | griffith\n",
      "Processing Record 156 | ribeira grande\n",
      "Processing Record 157 | sitka\n",
      "tanjong sepat not found\n",
      "Processing Record 159 | pecos\n",
      "Processing Record 160 | grindavik\n",
      "Processing Record 161 | port elizabeth\n",
      "Processing Record 162 | baykit\n",
      "Processing Record 163 | batagay\n",
      "Processing Record 164 | andenes\n",
      "Processing Record 165 | warwick\n",
      "Processing Record 166 | narsaq\n",
      "Processing Record 167 | ust-ishim\n",
      "Processing Record 168 | bengkulu\n",
      "Processing Record 169 | havre\n",
      "Processing Record 170 | laguna\n",
      "Processing Record 171 | tabasco\n",
      "Processing Record 172 | asau\n",
      "Processing Record 173 | pisco\n",
      "Processing Record 174 | talcahuano\n",
      "Processing Record 175 | nyagan\n",
      "Processing Record 176 | sorland\n",
      "Processing Record 177 | esperance\n",
      "Processing Record 178 | ust-maya\n",
      "Processing Record 179 | taiyuan\n",
      "Processing Record 180 | sabang\n",
      "Processing Record 181 | garmsar\n",
      "mys shmidta not found\n",
      "Processing Record 183 | katherine\n",
      "Processing Record 184 | ishigaki\n",
      "grand river south east not found\n",
      "Processing Record 186 | suntar\n",
      "Processing Record 187 | pevek\n",
      "Processing Record 188 | cayenne\n",
      "amderma not found\n",
      "Processing Record 190 | sioux lookout\n",
      "Processing Record 191 | kaspiyskiy\n",
      "Processing Record 192 | umm kaddadah\n",
      "Processing Record 193 | kumo\n",
      "Processing Record 194 | pangkalanbuun\n",
      "Processing Record 195 | roura\n",
      "Processing Record 196 | nemuro\n",
      "Processing Record 197 | makat\n",
      "Processing Record 198 | gevgelija\n",
      "Processing Record 199 | kommunisticheskiy\n",
      "Processing Record 200 | gurupi\n",
      "Processing Record 201 | chapleau\n",
      "Processing Record 202 | mareeba\n",
      "Processing Record 203 | dudinka\n",
      "Processing Record 204 | kiama\n",
      "Processing Record 205 | leh\n",
      "tsihombe not found\n",
      "Processing Record 207 | eirunepe\n",
      "Processing Record 208 | vestmannaeyjar\n",
      "Processing Record 209 | leeston\n",
      "umm durman not found\n",
      "Processing Record 211 | qaanaaq\n",
      "Processing Record 212 | avarua\n",
      "Processing Record 213 | cabra\n",
      "Processing Record 214 | lagoa\n",
      "Processing Record 215 | lorengau\n",
      "palabuhanratu not found\n",
      "Processing Record 217 | saint leonard\n",
      "mrirt not found\n",
      "Processing Record 219 | woodstock\n",
      "Processing Record 220 | atar\n",
      "Processing Record 221 | san vicente\n",
      "barawe not found\n",
      "yunjinghong not found\n",
      "Processing Record 224 | jenison\n",
      "Processing Record 225 | meadow lake\n",
      "Processing Record 226 | susehri\n",
      "Processing Record 227 | oranjemund\n",
      "Processing Record 228 | namibe\n",
      "Processing Record 229 | jalu\n",
      "Processing Record 230 | cidreira\n",
      "Processing Record 231 | lazurne\n",
      "Processing Record 232 | wonthaggi\n",
      "agva not found\n",
      "Processing Record 234 | constitucion\n",
      "Processing Record 235 | usoke\n",
      "Processing Record 236 | vardo\n",
      "Processing Record 237 | bhatkal\n",
      "Processing Record 238 | panyutyne\n",
      "Processing Record 239 | amuntai\n",
      "Processing Record 240 | road town\n",
      "Processing Record 241 | walvis bay\n",
      "Processing Record 242 | touros\n",
      "Processing Record 243 | raudeberg\n",
      "Processing Record 244 | minab\n",
      "Processing Record 245 | longyearbyen\n",
      "Processing Record 246 | bafia\n",
      "Processing Record 247 | calderitas\n",
      "Processing Record 248 | sakaiminato\n",
      "Processing Record 249 | channel-port aux basques\n",
      "Processing Record 250 | angermunde\n",
      "Processing Record 251 | dingle\n",
      "Processing Record 252 | dikson\n",
      "Processing Record 253 | yerbogachen\n",
      "Processing Record 254 | golden gate\n"
     ]
    },
    {
     "name": "stdout",
     "output_type": "stream",
     "text": [
      "Processing Record 255 | hambantota\n",
      "Processing Record 256 | egvekinot\n",
      "dolbeau not found\n",
      "Processing Record 258 | north platte\n",
      "Processing Record 259 | birao\n",
      "Processing Record 260 | chivilcoy\n",
      "Processing Record 261 | te anau\n",
      "Processing Record 262 | palmer\n",
      "Processing Record 263 | gryazi\n",
      "khonuu not found\n",
      "Processing Record 265 | saint-augustin\n",
      "Processing Record 266 | vanimo\n",
      "Processing Record 267 | georgiyevskoye\n",
      "guelengdeng not found\n",
      "doctor pedro p. pena not found\n",
      "Processing Record 270 | barrow\n",
      "Processing Record 271 | bud\n",
      "Processing Record 272 | shakawe\n",
      "Processing Record 273 | auki\n",
      "Processing Record 274 | saa\n",
      "Processing Record 275 | leningradskiy\n",
      "Processing Record 276 | clyde river\n",
      "Processing Record 277 | japura\n",
      "Processing Record 278 | whitehorse\n",
      "Processing Record 279 | lashio\n",
      "Processing Record 280 | ambikapur\n",
      "Processing Record 281 | burnie\n",
      "Processing Record 282 | saldanha\n",
      "Processing Record 283 | qeshm\n",
      "Processing Record 284 | cockburn town\n",
      "marcona not found\n",
      "Processing Record 286 | xining\n",
      "Processing Record 287 | jacqueville\n",
      "Processing Record 288 | torbay\n",
      "Processing Record 289 | moron\n",
      "Processing Record 290 | puerto madero\n",
      "Processing Record 291 | cherskiy\n",
      "Processing Record 292 | terney\n",
      "Processing Record 293 | khandyga\n",
      "Processing Record 294 | camacupa\n",
      "Processing Record 295 | port blair\n",
      "Processing Record 296 | geraldton\n",
      "Processing Record 297 | obihiro\n",
      "Processing Record 298 | votkinsk\n",
      "Processing Record 299 | aklavik\n",
      "Processing Record 300 | mbandaka\n",
      "Processing Record 301 | la ronge\n",
      "Processing Record 302 | margate\n",
      "Processing Record 303 | katsuura\n",
      "Processing Record 304 | sulangan\n",
      "Processing Record 305 | san quintin\n",
      "vaitupu not found\n",
      "chagda not found\n",
      "Processing Record 308 | swan hill\n",
      "Processing Record 309 | altay\n",
      "Processing Record 310 | talakan\n",
      "Processing Record 311 | nishihara\n",
      "Processing Record 312 | kibaya\n",
      "Processing Record 313 | kaeo\n",
      "Processing Record 314 | moerai\n",
      "Processing Record 315 | zonguldak\n",
      "Processing Record 316 | chippewa falls\n",
      "Processing Record 317 | alofi\n",
      "Processing Record 318 | labuan\n",
      "barentsburg not found\n",
      "tumannyy not found\n",
      "Processing Record 321 | alta floresta\n",
      "aflu not found\n",
      "Processing Record 323 | awjilah\n",
      "Processing Record 324 | hovd\n",
      "Processing Record 325 | kattivakkam\n",
      "Processing Record 326 | arraial do cabo\n",
      "Processing Record 327 | kaitangata\n",
      "Processing Record 328 | yako\n",
      "Processing Record 329 | vao\n",
      "Processing Record 330 | cuiaba\n",
      "Processing Record 331 | ballina\n",
      "Processing Record 332 | fougamou\n",
      "Processing Record 333 | bodden town\n",
      "Processing Record 334 | hargeysa\n",
      "Processing Record 335 | garowe\n",
      "Processing Record 336 | vila do maio\n",
      "Processing Record 337 | shimoda\n",
      "Processing Record 338 | ghanzi\n",
      "Processing Record 339 | provideniya\n",
      "Processing Record 340 | colac\n",
      "Processing Record 341 | kampong chhnang\n",
      "Processing Record 342 | marawi\n",
      "Processing Record 343 | qaqortoq\n",
      "yirol not found\n",
      "Processing Record 345 | kruisfontein\n",
      "Processing Record 346 | elmira\n",
      "Processing Record 347 | aksarka\n",
      "Processing Record 348 | severo-kurilsk\n",
      "Processing Record 349 | bereda\n",
      "Processing Record 350 | pajapan\n",
      "Processing Record 351 | cabedelo\n",
      "Processing Record 352 | portobelo\n",
      "Processing Record 353 | maniitsoq\n",
      "fort saint john not found\n",
      "Processing Record 355 | souillac\n",
      "Processing Record 356 | buala\n",
      "Processing Record 357 | vostok\n",
      "Processing Record 358 | porto novo\n",
      "Processing Record 359 | bikaner\n",
      "Processing Record 360 | thomaston\n",
      "Processing Record 361 | port keats\n",
      "Processing Record 362 | ancud\n",
      "Processing Record 363 | bambanglipuro\n",
      "Processing Record 364 | santiago\n",
      "Processing Record 365 | bathsheba\n",
      "Processing Record 366 | vasudevanallur\n",
      "Processing Record 367 | nara\n",
      "Processing Record 368 | hastings\n",
      "Processing Record 369 | maldonado\n",
      "Processing Record 370 | mackenzie\n",
      "Processing Record 371 | conde\n",
      "Processing Record 372 | saint-francois\n",
      "Processing Record 373 | aleksandrov gay\n",
      "Processing Record 374 | kawalu\n",
      "Processing Record 375 | the valley\n",
      "Processing Record 376 | saint george\n",
      "Processing Record 377 | juegang\n",
      "Processing Record 378 | campos novos\n",
      "Processing Record 379 | talnakh\n",
      "Processing Record 380 | banda aceh\n",
      "Processing Record 381 | toamasina\n",
      "Processing Record 382 | champasak\n",
      "Processing Record 383 | savinka\n",
      "warqla not found\n",
      "Processing Record 385 | ilulissat\n",
      "Processing Record 386 | labuhan\n",
      "sumbawa not found\n",
      "Processing Record 388 | acarau\n",
      "Processing Record 389 | palkino\n",
      "Processing Record 390 | sangin\n",
      "Processing Record 391 | sao joao da barra\n",
      "Processing Record 392 | parana\n",
      "Processing Record 393 | otavi\n",
      "Processing Record 394 | anadyr\n",
      "Processing Record 395 | paraiso\n",
      "umzimvubu not found\n",
      "simpang rengam not found\n",
      "Processing Record 398 | muros\n",
      "Processing Record 399 | mitu\n",
      "Processing Record 400 | airai\n",
      "Processing Record 401 | krasnoselkup\n",
      "Processing Record 402 | saint-georges\n",
      "Processing Record 403 | vila velha\n",
      "Processing Record 404 | tabuk\n",
      "Processing Record 405 | ust-ilimsk\n",
      "Processing Record 406 | tongchuan\n",
      "Processing Record 407 | magadan\n",
      "Processing Record 408 | altamira\n",
      "Processing Record 409 | aras\n",
      "Processing Record 410 | panacan\n",
      "Processing Record 411 | novikovo\n",
      "Processing Record 412 | broken hill\n",
      "Processing Record 413 | jinchang\n",
      "ust-kamchatsk not found\n",
      "Processing Record 415 | rio gallegos\n",
      "Processing Record 416 | bonavista\n",
      "Processing Record 417 | lianzhou\n",
      "Processing Record 418 | cartaya\n",
      "Processing Record 419 | west plains\n",
      "Processing Record 420 | marzuq\n",
      "goteborg not found\n",
      "Processing Record 422 | cody\n",
      "Processing Record 423 | jiazi\n",
      "Processing Record 424 | valparaiso\n",
      "Processing Record 425 | padang\n",
      "barbar not found\n",
      "Processing Record 427 | karoi\n",
      "Processing Record 428 | okhotsk\n",
      "Processing Record 429 | homer\n",
      "Processing Record 430 | lawton\n",
      "Processing Record 431 | la asuncion\n",
      "Processing Record 432 | bandarbeyla\n",
      "Processing Record 433 | tura\n",
      "Processing Record 434 | sikeston\n",
      "Processing Record 435 | ahipara\n",
      "Processing Record 436 | sortland\n",
      "Processing Record 437 | belmonte\n",
      "Processing Record 438 | lima\n",
      "Processing Record 439 | jesus carranza\n",
      "Processing Record 440 | aldan\n",
      "Processing Record 441 | pitimbu\n",
      "Processing Record 442 | monrovia\n",
      "Processing Record 443 | kloulklubed\n",
      "Processing Record 444 | teguise\n",
      "Processing Record 445 | buluang\n",
      "Processing Record 446 | deputatskiy\n",
      "Processing Record 447 | mayumba\n",
      "Processing Record 448 | saint-pierre\n",
      "Processing Record 449 | pinega\n",
      "Processing Record 450 | tecoanapa\n",
      "Processing Record 451 | beringovskiy\n",
      "Processing Record 452 | klaksvik\n",
      "Processing Record 453 | araouane\n",
      "Processing Record 454 | ashland\n",
      "Processing Record 455 | necochea\n",
      "Processing Record 456 | eyl\n",
      "Processing Record 457 | bosaso\n",
      "Processing Record 458 | meulaboh\n",
      "Processing Record 459 | bairiki\n",
      "Processing Record 460 | lagos\n",
      "Processing Record 461 | broome\n",
      "Processing Record 462 | ahuimanu\n",
      "Processing Record 463 | port-gentil\n",
      "Processing Record 464 | emerald\n",
      "Processing Record 465 | qadirpur ran\n",
      "attawapiskat not found\n",
      "Processing Record 467 | culfa\n",
      "Processing Record 468 | tabory\n",
      "Processing Record 469 | goundi\n",
      "Processing Record 470 | te karaka\n",
      "Processing Record 471 | samarai\n",
      "Processing Record 472 | inirida\n",
      "Processing Record 473 | thinadhoo\n",
      "Processing Record 474 | ruteng\n",
      "Processing Record 475 | chibombo\n",
      "Processing Record 476 | samoded\n",
      "gorno-chuyskiy not found\n",
      "Processing Record 478 | daru\n",
      "Processing Record 479 | orlik\n",
      "Processing Record 480 | port macquarie\n",
      "Processing Record 481 | leeton\n",
      "Processing Record 482 | prince rupert\n",
      "kuche not found\n",
      "Processing Record 484 | iba\n",
      "Processing Record 485 | dalbandin\n",
      "Processing Record 486 | shwebo\n",
      "Processing Record 487 | lerwick\n",
      "Processing Record 488 | sao filipe\n",
      "Processing Record 489 | swift current\n",
      "Processing Record 490 | waingapu\n",
      "Processing Record 491 | qasigiannguit\n",
      "Processing Record 492 | kestel\n",
      "Processing Record 493 | madang\n",
      "Processing Record 494 | catamarca\n",
      "Processing Record 495 | ust-nera\n",
      "Processing Record 496 | sola\n",
      "Processing Record 497 | wajima\n",
      "Processing Record 498 | myingyan\n",
      "louisbourg not found\n",
      "Processing Record 500 | alakurtti\n",
      "Processing Record 501 | santa cruz\n",
      "Processing Record 502 | lasa\n",
      "Processing Record 503 | westport\n",
      "Processing Record 504 | nikolayevsk-na-amure\n",
      "Processing Record 505 | mitsamiouli\n",
      "Processing Record 506 | port-cartier\n",
      "Processing Record 507 | yatou\n",
      "Processing Record 508 | almendralejo\n",
      "Processing Record 509 | faya\n",
      "andevoranto not found\n",
      "Processing Record 511 | atasu\n",
      "Processing Record 512 | goderich\n"
     ]
    },
    {
     "name": "stdout",
     "output_type": "stream",
     "text": [
      "Processing Record 513 | erdenet\n",
      "Processing Record 514 | snasa\n",
      "Processing Record 515 | teya\n",
      "Processing Record 516 | nhulunbuy\n",
      "Processing Record 517 | pishin\n",
      "Processing Record 518 | stettler\n",
      "Processing Record 519 | marsh harbour\n",
      "miranorte not found\n",
      "Processing Record 521 | charleston\n",
      "Processing Record 522 | matara\n",
      "Processing Record 523 | port lincoln\n",
      "Processing Record 524 | prigen\n",
      "Processing Record 525 | iquique\n",
      "Processing Record 526 | maxixe\n",
      "Processing Record 527 | coquimbo\n",
      "Processing Record 528 | ranong\n",
      "Processing Record 529 | teeli\n",
      "Processing Record 530 | kita\n",
      "Processing Record 531 | hay river\n",
      "Processing Record 532 | candolim\n",
      "Processing Record 533 | masuguru\n",
      "Processing Record 534 | mehriz\n",
      "Processing Record 535 | aguimes\n",
      "Processing Record 536 | kieta\n",
      "Processing Record 537 | iracoubo\n",
      "wahran not found\n",
      "Processing Record 539 | hingoli\n",
      "Processing Record 540 | richards bay\n",
      "Processing Record 541 | waipawa\n",
      "Processing Record 542 | kutum\n",
      "bur gabo not found\n",
      "Processing Record 544 | srednekolymsk\n",
      "Processing Record 545 | santo nino\n",
      "Processing Record 546 | taoudenni\n",
      "Processing Record 547 | chernyakhovsk\n",
      "Processing Record 548 | coihaique\n",
      "Processing Record 549 | marand\n",
      "Processing Record 550 | grand-santi\n",
      "Processing Record 551 | atagay\n",
      "Processing Record 552 | rocha\n",
      "Processing Record 553 | catalao\n",
      "Processing Record 554 | humberto de campos\n",
      "Processing Record 555 | cooma\n",
      "Processing Record 556 | abu samrah\n",
      "Processing Record 557 | san patricio\n",
      "Processing Record 558 | svetlyy\n",
      "Processing Record 559 | manaus\n",
      "Processing Record 560 | buk\n",
      "Processing Record 561 | coahuayana\n",
      "Processing Record 562 | saint andrews\n",
      "Processing Record 563 | chama\n",
      "Processing Record 564 | agadez\n",
      "Processing Record 565 | novo aripuana\n",
      "Processing Record 566 | lukovetskiy\n",
      "Processing Record 567 | baracoa\n",
      "Processing Record 568 | san rafael del sur\n",
      "Processing Record 569 | lata\n",
      "Processing Record 570 | kasongo-lunda\n",
      "Processing Record 571 | kuytun\n",
      "Processing Record 572 | nador\n",
      "Processing Record 573 | scarborough\n",
      "Processing Record 574 | murchison\n",
      "Processing Record 575 | shimanovsk\n",
      "thilogne not found\n",
      "Processing Record 577 | nacogdoches\n",
      "Processing Record 578 | vaitape\n",
      "Processing Record 579 | yulara\n",
      "Processing Record 580 | harnosand\n",
      "Processing Record 581 | howard springs\n",
      "Processing Record 582 | kudahuvadhoo\n",
      "Processing Record 583 | ulladulla\n",
      "Processing Record 584 | batemans bay\n",
      "Processing Record 585 | uyo\n",
      "Processing Record 586 | akureyri\n",
      "Processing Record 587 | yumen\n",
      "Processing Record 588 | altea\n",
      "Processing Record 589 | ipswich\n",
      "Processing Record 590 | nogliki\n",
      "Processing Record 591 | san jeronimo\n",
      "Processing Record 592 | xinqing\n",
      "Processing Record 593 | montceau-les-mines\n",
      "Processing Record 594 | komsomolskiy\n",
      "-----End-----\n"
     ]
    }
   ],
   "source": [
    "record = 0\n",
    "\n",
    "print(\"-----Begin-----\")\n",
    "\n",
    "\n",
    "#https://www.w3schools.com/python/python_for_loops.asp\n",
    "for i in range(len(cities)):\n",
    "\n",
    "    #Perform a weather check on each city using a series of successive API calls.   \n",
    "    url = \"http://api.openweathermap.org/data/2.5/weather?\"\n",
    "    city = cities[i]\n",
    "\n",
    "    # Build query URL\n",
    "    query_url = url + \"appid=\" + weather_api_key + \"&q=\" + city + \"&units=imperial\"\n",
    "    weather_response = requests.get(query_url)\n",
    "    if weather_response.status_code == 200:\n",
    "        record = record + 1\n",
    "        weather_json = weather_response.json()\n",
    "        city_name.append(weather_json[\"name\"])\n",
    "        lat.append(weather_json['coord']['lat'])\n",
    "        lng.append(weather_json['coord']['lon'])\n",
    "        max_temp.append(weather_json[\"main\"][\"temp_max\"])\n",
    "        humidity.append(weather_json[\"main\"][\"humidity\"])\n",
    "        cloudiness.append(weather_json[\"clouds\"][\"all\"])\n",
    "        wind_speed.append(weather_json[\"wind\"][\"speed\"])\n",
    "        country.append(weather_json[\"sys\"][\"country\"])\n",
    "        date.append(weather_json[\"dt\"])\n",
    "        print(f\"Processing Record {i} | {city}\")\n",
    "    else:\n",
    "        print(f\"{city} not found\")\n",
    "                \n",
    "print(\"-----End-----\")\n",
    "\n"
   ]
  },
  {
   "cell_type": "markdown",
   "metadata": {},
   "source": [
    "### Convert Raw Data to DataFrame\n",
    "* Export the city data into a .csv.\n",
    "* Display the DataFrame"
   ]
  },
  {
   "cell_type": "code",
   "execution_count": 13,
   "metadata": {},
   "outputs": [
    {
     "name": "stdout",
     "output_type": "stream",
     "text": [
      "546 546 546 546 546 546 546 546 546\n"
     ]
    }
   ],
   "source": [
    "# Create a panda data frame from a created dictionary\n",
    "weather_dict = {\n",
    "                \"City\" : city_name,\n",
    "                \"Cloudiness\" : cloudiness,\n",
    "                \"Country\" : country,\n",
    "                \"Date\" : date,\n",
    "                \"Humidity\" : humidity,\n",
    "                \"Lat\" : lat,\n",
    "                \"Lng\" : lng,\n",
    "                \"Max Temp\" : max_temp,\n",
    "                \"Wind Speed\" : wind_speed}\n",
    "\n",
    "\n",
    "#https://pandas.pydata.org/pandas-docs/stable/reference/api/pandas.DataFrame.drop_duplicates.html\n",
    "#weather_df.drop_duplicates()\n",
    "#checking length - fixing error on length of arrays\n",
    "\n",
    "print(len(city_name), len(cloudiness), len(country), len(date), len(humidity), len(lat), len(lng), len(max_temp), len(wind_speed)) "
   ]
  },
  {
   "cell_type": "code",
   "execution_count": 14,
   "metadata": {
    "scrolled": true
   },
   "outputs": [
    {
     "data": {
      "text/html": [
       "<div>\n",
       "<style scoped>\n",
       "    .dataframe tbody tr th:only-of-type {\n",
       "        vertical-align: middle;\n",
       "    }\n",
       "\n",
       "    .dataframe tbody tr th {\n",
       "        vertical-align: top;\n",
       "    }\n",
       "\n",
       "    .dataframe thead th {\n",
       "        text-align: right;\n",
       "    }\n",
       "</style>\n",
       "<table border=\"1\" class=\"dataframe\">\n",
       "  <thead>\n",
       "    <tr style=\"text-align: right;\">\n",
       "      <th></th>\n",
       "      <th>City</th>\n",
       "      <th>Cloudiness</th>\n",
       "      <th>Country</th>\n",
       "      <th>Date</th>\n",
       "      <th>Humidity</th>\n",
       "      <th>Lat</th>\n",
       "      <th>Lng</th>\n",
       "      <th>Max Temp</th>\n",
       "      <th>Wind Speed</th>\n",
       "    </tr>\n",
       "  </thead>\n",
       "  <tbody>\n",
       "    <tr>\n",
       "      <th>0</th>\n",
       "      <td>Mataura</td>\n",
       "      <td>100</td>\n",
       "      <td>NZ</td>\n",
       "      <td>1609557569</td>\n",
       "      <td>91</td>\n",
       "      <td>-46.19</td>\n",
       "      <td>168.86</td>\n",
       "      <td>55.99</td>\n",
       "      <td>8.01</td>\n",
       "    </tr>\n",
       "    <tr>\n",
       "      <th>1</th>\n",
       "      <td>Mataura</td>\n",
       "      <td>100</td>\n",
       "      <td>NZ</td>\n",
       "      <td>1609557789</td>\n",
       "      <td>91</td>\n",
       "      <td>-46.19</td>\n",
       "      <td>168.86</td>\n",
       "      <td>55.99</td>\n",
       "      <td>5.99</td>\n",
       "    </tr>\n",
       "    <tr>\n",
       "      <th>2</th>\n",
       "      <td>Kontagora</td>\n",
       "      <td>0</td>\n",
       "      <td>NG</td>\n",
       "      <td>1609558047</td>\n",
       "      <td>25</td>\n",
       "      <td>10.40</td>\n",
       "      <td>5.47</td>\n",
       "      <td>72.46</td>\n",
       "      <td>5.70</td>\n",
       "    </tr>\n",
       "    <tr>\n",
       "      <th>3</th>\n",
       "      <td>Kahului</td>\n",
       "      <td>20</td>\n",
       "      <td>US</td>\n",
       "      <td>1609557802</td>\n",
       "      <td>54</td>\n",
       "      <td>20.89</td>\n",
       "      <td>-156.47</td>\n",
       "      <td>80.60</td>\n",
       "      <td>27.51</td>\n",
       "    </tr>\n",
       "    <tr>\n",
       "      <th>4</th>\n",
       "      <td>Kapaa</td>\n",
       "      <td>20</td>\n",
       "      <td>US</td>\n",
       "      <td>1609557657</td>\n",
       "      <td>74</td>\n",
       "      <td>22.08</td>\n",
       "      <td>-159.32</td>\n",
       "      <td>78.80</td>\n",
       "      <td>17.22</td>\n",
       "    </tr>\n",
       "    <tr>\n",
       "      <th>...</th>\n",
       "      <td>...</td>\n",
       "      <td>...</td>\n",
       "      <td>...</td>\n",
       "      <td>...</td>\n",
       "      <td>...</td>\n",
       "      <td>...</td>\n",
       "      <td>...</td>\n",
       "      <td>...</td>\n",
       "      <td>...</td>\n",
       "    </tr>\n",
       "    <tr>\n",
       "      <th>541</th>\n",
       "      <td>Nogliki</td>\n",
       "      <td>98</td>\n",
       "      <td>RU</td>\n",
       "      <td>1609558174</td>\n",
       "      <td>79</td>\n",
       "      <td>51.83</td>\n",
       "      <td>143.17</td>\n",
       "      <td>-4.43</td>\n",
       "      <td>14.79</td>\n",
       "    </tr>\n",
       "    <tr>\n",
       "      <th>542</th>\n",
       "      <td>San Jerónimo</td>\n",
       "      <td>99</td>\n",
       "      <td>PE</td>\n",
       "      <td>1609558174</td>\n",
       "      <td>75</td>\n",
       "      <td>-11.95</td>\n",
       "      <td>-75.28</td>\n",
       "      <td>50.23</td>\n",
       "      <td>1.77</td>\n",
       "    </tr>\n",
       "    <tr>\n",
       "      <th>543</th>\n",
       "      <td>Xinqing</td>\n",
       "      <td>54</td>\n",
       "      <td>CN</td>\n",
       "      <td>1609558174</td>\n",
       "      <td>80</td>\n",
       "      <td>48.23</td>\n",
       "      <td>129.50</td>\n",
       "      <td>-9.02</td>\n",
       "      <td>7.58</td>\n",
       "    </tr>\n",
       "    <tr>\n",
       "      <th>544</th>\n",
       "      <td>Montceau-les-Mines</td>\n",
       "      <td>90</td>\n",
       "      <td>FR</td>\n",
       "      <td>1609558174</td>\n",
       "      <td>100</td>\n",
       "      <td>46.67</td>\n",
       "      <td>4.37</td>\n",
       "      <td>27.00</td>\n",
       "      <td>3.36</td>\n",
       "    </tr>\n",
       "    <tr>\n",
       "      <th>545</th>\n",
       "      <td>Yangi Marg`ilon</td>\n",
       "      <td>90</td>\n",
       "      <td>UZ</td>\n",
       "      <td>1609557900</td>\n",
       "      <td>85</td>\n",
       "      <td>40.43</td>\n",
       "      <td>71.72</td>\n",
       "      <td>17.60</td>\n",
       "      <td>2.24</td>\n",
       "    </tr>\n",
       "  </tbody>\n",
       "</table>\n",
       "<p>546 rows × 9 columns</p>\n",
       "</div>"
      ],
      "text/plain": [
       "                   City  Cloudiness Country        Date  Humidity    Lat  \\\n",
       "0               Mataura         100      NZ  1609557569        91 -46.19   \n",
       "1               Mataura         100      NZ  1609557789        91 -46.19   \n",
       "2             Kontagora           0      NG  1609558047        25  10.40   \n",
       "3               Kahului          20      US  1609557802        54  20.89   \n",
       "4                 Kapaa          20      US  1609557657        74  22.08   \n",
       "..                  ...         ...     ...         ...       ...    ...   \n",
       "541             Nogliki          98      RU  1609558174        79  51.83   \n",
       "542        San Jerónimo          99      PE  1609558174        75 -11.95   \n",
       "543             Xinqing          54      CN  1609558174        80  48.23   \n",
       "544  Montceau-les-Mines          90      FR  1609558174       100  46.67   \n",
       "545     Yangi Marg`ilon          90      UZ  1609557900        85  40.43   \n",
       "\n",
       "        Lng  Max Temp  Wind Speed  \n",
       "0    168.86     55.99        8.01  \n",
       "1    168.86     55.99        5.99  \n",
       "2      5.47     72.46        5.70  \n",
       "3   -156.47     80.60       27.51  \n",
       "4   -159.32     78.80       17.22  \n",
       "..      ...       ...         ...  \n",
       "541  143.17     -4.43       14.79  \n",
       "542  -75.28     50.23        1.77  \n",
       "543  129.50     -9.02        7.58  \n",
       "544    4.37     27.00        3.36  \n",
       "545   71.72     17.60        2.24  \n",
       "\n",
       "[546 rows x 9 columns]"
      ]
     },
     "execution_count": 14,
     "metadata": {},
     "output_type": "execute_result"
    }
   ],
   "source": [
    "#Create DataFrame\n",
    "df = pd.DataFrame(weather_dict)\n",
    "df"
   ]
  },
  {
   "cell_type": "markdown",
   "metadata": {},
   "source": [
    "## Inspect the data and remove the cities where the humidity > 100%.\n",
    "----\n",
    "Skip this step if there are no cities that have humidity > 100%. "
   ]
  },
  {
   "cell_type": "code",
   "execution_count": 18,
   "metadata": {},
   "outputs": [
    {
     "name": "stdout",
     "output_type": "stream",
     "text": [
      "No cities have a greater humidity than 100%\n"
     ]
    }
   ],
   "source": [
    "#  Get the indices of cities that have humidity over 100%.\n",
    "#humidity_values = weather_df[\"Humidity\"]\n",
    "#max_humidity = humidity_values.max()\n",
    "\n",
    "#if max_humidity > 100:\n",
    "    #humidity_index = []\n",
    "   # for i in range(len(cities_found)):\n",
    "        #if weather_df.iloc[i]['Humidity'] > 100:\n",
    "             #humidity_index.append(i)\n",
    "                \n",
    "#Make a new DataFrame equal to the city data to drop all humidity outliers by index.\n",
    "   # new_weather_df = weather_df.drop(humidity_index) \n",
    "    #new_weather_df\n",
    "#else:\n",
    "   # new_weather_df = weather_df\n",
    "    #print(new_weather_df)\n",
    "print(\"No cities have a greater humidity than 100%\")"
   ]
  },
  {
   "cell_type": "markdown",
   "metadata": {},
   "source": [
    "## Plotting the Data\n",
    "* Use proper labeling of the plots using plot titles (including date of analysis) and axes labels.\n",
    "* Save the plotted figures as .pngs."
   ]
  },
  {
   "cell_type": "markdown",
   "metadata": {},
   "source": [
    "## Latitude vs. Temperature Plot"
   ]
  },
  {
   "cell_type": "code",
   "execution_count": 24,
   "metadata": {
    "scrolled": true
   },
   "outputs": [
    {
     "data": {
      "image/png": "[encoded data removed]",
      "text/plain": [
       "<Figure size 432x288 with 1 Axes>"
      ]
     },
     "metadata": {
      "needs_background": "light"
     },
     "output_type": "display_data"
    }
   ],
   "source": [
    "# Create Latitude vs. Temperature Plot scatter plot\n",
    "\n",
    "#plt.scatter(california_data['Longitude'],california_data['Latitude'],c=california_data['MedInc'])\n",
    "plt.scatter(df['Lat'],df['Max Temp'])\n",
    "\n",
    "# Set title\n",
    "plt.title(\"City Latitude vs. Max Temperature (08/31/20)\")\n",
    "\n",
    "# Set x axis label\n",
    "plt.xlabel(\"Latitude\")\n",
    "\n",
    "# Set y axis label\n",
    "plt.ylabel(\"Max Temperature (F)\")\n",
    "\n",
    "# Set grid line\n",
    "plt.grid(linestyle='-', linewidth=1, alpha = 0.5)\n",
    "\n",
    "# Save the plotted figure as .pngs\n",
    "plt.savefig(\"Latitude vs Max Temperature.png\")"
   ]
  },
  {
   "cell_type": "code",
   "execution_count": 31,
   "metadata": {},
   "outputs": [
    {
     "name": "stdout",
     "output_type": "stream",
     "text": [
      "Max Temperature of cities increase as we grow closer to the equator (0 degrees latitude)\n"
     ]
    }
   ],
   "source": [
    "print(\"Max Temperature of cities increase as we grow closer to the equator (0 degrees latitude)\")"
   ]
  },
  {
   "cell_type": "markdown",
   "metadata": {},
   "source": [
    "## Latitude vs. Humidity Plot"
   ]
  },
  {
   "cell_type": "code",
   "execution_count": 25,
   "metadata": {},
   "outputs": [
    {
     "data": {
      "image/png": "[encoded data removed]",
      "text/plain": [
       "<Figure size 432x288 with 1 Axes>"
      ]
     },
     "metadata": {
      "needs_background": "light"
     },
     "output_type": "display_data"
    }
   ],
   "source": [
    "# Create Latitude vs. Humidity Plot scatter plot\n",
    "plt.scatter(df[\"Lat\"], df[\"Humidity\"])\n",
    "\n",
    "# Set title\n",
    "plt.title(\"City Latitude vs. Humidity (01/17/20)\")\n",
    "\n",
    "# Set x axis label\n",
    "plt.xlabel(\"Latitude\")\n",
    "\n",
    "# Set y axis label\n",
    "plt.ylabel(\"Humidity (%)\")\n",
    "\n",
    "# Set grid line\n",
    "plt.grid(linestyle='-', linewidth=1, alpha = 0.5)\n",
    "\n",
    "# Save the plotted figure as .pngs\n",
    "plt.savefig(\"Latitude vs Humidity.png\")"
   ]
  },
  {
   "cell_type": "code",
   "execution_count": 32,
   "metadata": {},
   "outputs": [
    {
     "name": "stdout",
     "output_type": "stream",
     "text": [
      "Percentage in Humidity stays roughly above 30%\n"
     ]
    }
   ],
   "source": [
    "print(\"Percentage in Humidity stays roughly above 30%\")"
   ]
  },
  {
   "cell_type": "markdown",
   "metadata": {},
   "source": [
    "## Latitude vs. Cloudiness Plot"
   ]
  },
  {
   "cell_type": "code",
   "execution_count": 26,
   "metadata": {},
   "outputs": [
    {
     "data": {
      "image/png": "[encoded data removed]",
      "text/plain": [
       "<Figure size 432x288 with 1 Axes>"
      ]
     },
     "metadata": {
      "needs_background": "light"
     },
     "output_type": "display_data"
    }
   ],
   "source": [
    "# Create Latitude vs. Cloudiness Plot scatter plot\n",
    "plt.scatter(df[\"Lat\"], df[\"Cloudiness\"])\n",
    "\n",
    "# Set title\n",
    "plt.title(\"City Latitude vs. Cloudiness (01/17/20)\")\n",
    "\n",
    "# Set x axis label\n",
    "plt.xlabel(\"Latitude\")\n",
    "\n",
    "# Set y axis label\n",
    "plt.ylabel(\"Cloudiness (%)\")\n",
    "\n",
    "# Set y axis limit\n",
    "#plt.ylim(-5,105)\n",
    "\n",
    "# Set grid line\n",
    "plt.grid(linestyle='-', linewidth=1, alpha = 0.5)\n",
    "\n",
    "# Save the plotted figure as .pngs\n",
    "plt.savefig(\"Latitude vs Cloudiness.png\")"
   ]
  },
  {
   "cell_type": "code",
   "execution_count": 33,
   "metadata": {},
   "outputs": [
    {
     "name": "stdout",
     "output_type": "stream",
     "text": [
      "Cloudiness Percentage stays relatively the same despite degrees latitude\n"
     ]
    }
   ],
   "source": [
    "print(\"Cloudiness Percentage stays relatively the same despite degrees latitude\")"
   ]
  },
  {
   "cell_type": "markdown",
   "metadata": {},
   "source": [
    "## Latitude vs. Wind Speed Plot"
   ]
  },
  {
   "cell_type": "code",
   "execution_count": 27,
   "metadata": {},
   "outputs": [
    {
     "data": {
      "image/png": "[encoded data removed]",
      "text/plain": [
       "<Figure size 432x288 with 1 Axes>"
      ]
     },
     "metadata": {
      "needs_background": "light"
     },
     "output_type": "display_data"
    }
   ],
   "source": [
    "# Create Latitude vs. Wind Speed scatter plot\n",
    "plt.scatter(df[\"Lat\"], df[\"Wind Speed\"])\n",
    "plt.title(\"City Latitude vs. Wind Speed (mph) (08/31/20)\")\n",
    "\n",
    "# Set x axis label\n",
    "plt.xlabel(\"Latitude\")\n",
    "\n",
    "# Set y axis label\n",
    "plt.ylabel(\"Wind Speed (%)\")\n",
    "\n",
    "# Set y axis limit\n",
    "#plt.ylim(-2,50)\n",
    "\n",
    "# Set grid line\n",
    "plt.grid(linestyle='-', linewidth=1, alpha = 0.5)\n",
    "\n",
    "# Save the plotted figure as .pngs\n",
    "plt.savefig(\"Latitude vs Wind Speed (mph).png\")"
   ]
  },
  {
   "cell_type": "code",
   "execution_count": 34,
   "metadata": {},
   "outputs": [
    {
     "name": "stdout",
     "output_type": "stream",
     "text": [
      "Wind Speed percentage stays roughly below 25% regardless of degrees latitude\n"
     ]
    }
   ],
   "source": [
    "print(\"Wind Speed percentage stays roughly below 25% regardless of degrees latitude\")"
   ]
  },
  {
   "cell_type": "markdown",
   "metadata": {},
   "source": [
    "## Linear Regression"
   ]
  },
  {
   "cell_type": "markdown",
   "metadata": {},
   "source": [
    "####  Northern Hemisphere - Max Temp vs. Latitude Linear Regression"
   ]
  },
  {
   "cell_type": "code",
   "execution_count": 46,
   "metadata": {},
   "outputs": [
    {
     "name": "stdout",
     "output_type": "stream",
     "text": [
      "                   City  Cloudiness Country        Date  Humidity    Lat  \\\n",
      "2             Kontagora           0      NG  1609558047        25  10.40   \n",
      "3               Kahului          20      US  1609557802        54  20.89   \n",
      "4                 Kapaa          20      US  1609557657        74  22.08   \n",
      "6            Nikolskoye          90      RU  1609557810        98  59.70   \n",
      "7           Tuktoyaktuk           5      CA  1609557790        74  69.45   \n",
      "..                  ...         ...     ...         ...       ...    ...   \n",
      "540             Ipswich          90      GB  1609557875       100  52.06   \n",
      "541             Nogliki          98      RU  1609558174        79  51.83   \n",
      "543             Xinqing          54      CN  1609558174        80  48.23   \n",
      "544  Montceau-les-Mines          90      FR  1609558174       100  46.67   \n",
      "545     Yangi Marg`ilon          90      UZ  1609557900        85  40.43   \n",
      "\n",
      "        Lng  Max Temp  Wind Speed  \n",
      "2      5.47     72.46        5.70  \n",
      "3   -156.47     80.60       27.51  \n",
      "4   -159.32     78.80       17.22  \n",
      "6     30.79     33.01        4.47  \n",
      "7   -133.04    -27.40       12.75  \n",
      "..      ...       ...         ...  \n",
      "540    1.16     39.99       10.29  \n",
      "541  143.17     -4.43       14.79  \n",
      "543  129.50     -9.02        7.58  \n",
      "544    4.37     27.00        3.36  \n",
      "545   71.72     17.60        2.24  \n",
      "\n",
      "[367 rows x 9 columns]\n"
     ]
    }
   ],
   "source": [
    "#Note: above 0 degrees latitude is north hemisphere\n",
    "\n",
    "N_df = df.loc[(df[\"Lat\"]>0)]\n",
    "print(N_df)"
   ]
  },
  {
   "cell_type": "code",
   "execution_count": 47,
   "metadata": {},
   "outputs": [
    {
     "name": "stdout",
     "output_type": "stream",
     "text": [
      "The r-squared is: 0.7164148592186177\n"
     ]
    },
    {
     "data": {
      "image/png": "[encoded data removed]",
      "text/plain": [
       "<Figure size 432x288 with 1 Axes>"
      ]
     },
     "metadata": {
      "needs_background": "light"
     },
     "output_type": "display_data"
    },
    {
     "data": {
      "text/plain": [
       "<Figure size 432x288 with 0 Axes>"
      ]
     },
     "metadata": {},
     "output_type": "display_data"
    }
   ],
   "source": [
    "#x_values = data['bp']\n",
    "x_values = N_df[\"Lat\"]\n",
    "\n",
    "#y_values = data['1Y_Disease_Progress']\n",
    "y_values = N_df[\"Max Temp\"]\n",
    "\n",
    "#(slope, intercept, rvalue, pvalue, stderr) = linregress(x_values, y_values)\n",
    "(slope, intercept, rvalue, pvalue, stderr) = linregress(x_values, y_values)\n",
    "\n",
    "#regress_values = x_values * slope + intercept\n",
    "regress_values = x_values * slope + intercept\n",
    "\n",
    "#line_eq = \"y = \" + str(round(slope,2)) + \"x + \" + str(round(intercept,2))\n",
    "line_eq = \"y = \" + str(round(slope,2)) + \"x + \" + str(round(intercept,2))\n",
    "#plt.scatter(x_values,y_values)\n",
    "plt.scatter(x_values,y_values)\n",
    "\n",
    "#plt.plot(x_values,regress_values,\"r-\")\n",
    "plt.plot(x_values,regress_values,\"r-\")\n",
    "\n",
    "#plt.annotate(line_eq,(0,50),fontsize=15,color=\"red\")\n",
    "plt.annotate(line_eq,(0,50),fontsize=15,color=\"red\")\n",
    "\n",
    "#plt.xlabel('Normalized Blood Pressure')\n",
    "plt.xlabel(\"Latitude\")\n",
    "\n",
    "#plt.ylabel('1Y_Disease_Progress')\n",
    "plt.ylabel(\"Max Temp\")\n",
    "\n",
    "#print(f\"The r-squared is: {rvalue**2}\")\n",
    "print(f\"The r-squared is: {rvalue**2}\")\n",
    "\n",
    "plt.title (\"Northern Hemisphere Latitude vs. Max Temp\")\n",
    "#plt.show()\n",
    "plt.show()\n",
    "# save chart to file\n",
    "plt.savefig('lat_vs_temp_NH.png')"
   ]
  },
  {
   "cell_type": "code",
   "execution_count": 48,
   "metadata": {},
   "outputs": [
    {
     "name": "stdout",
     "output_type": "stream",
     "text": [
      "Max Temp decreases as distance from the equator increases\n"
     ]
    }
   ],
   "source": [
    "print(\"Max Temp decreases as distance from the equator increases\")"
   ]
  },
  {
   "cell_type": "markdown",
   "metadata": {},
   "source": [
    "####  Southern Hemisphere - Max Temp vs. Latitude Linear Regression"
   ]
  },
  {
   "cell_type": "code",
   "execution_count": 49,
   "metadata": {},
   "outputs": [
    {
     "name": "stdout",
     "output_type": "stream",
     "text": [
      "               City  Cloudiness Country        Date  Humidity    Lat     Lng  \\\n",
      "0           Mataura         100      NZ  1609557569        91 -46.19  168.86   \n",
      "1           Mataura         100      NZ  1609557789        91 -46.19  168.86   \n",
      "5       New Norfolk          84      AU  1609557832        44 -42.78  147.06   \n",
      "8       East London          73      ZA  1609557789        65 -33.02   27.91   \n",
      "10        Kununurra          80      AU  1609558048        42 -15.77  128.73   \n",
      "..              ...         ...     ...         ...       ...    ...     ...   \n",
      "530          Yulara           0      AU  1609557893        10 -25.24  130.99   \n",
      "532  Howard Springs          40      AU  1609558172        66 -12.50  131.05   \n",
      "534       Ulladulla          90      AU  1609558172       100 -35.35  150.47   \n",
      "535    Batemans Bay         100      AU  1609558173        69 -35.72  150.18   \n",
      "542    San Jerónimo          99      PE  1609558174        75 -11.95  -75.28   \n",
      "\n",
      "     Max Temp  Wind Speed  \n",
      "0       55.99        8.01  \n",
      "1       55.99        5.99  \n",
      "5       73.99        1.99  \n",
      "8       64.71        8.03  \n",
      "10      98.60        5.82  \n",
      "..        ...         ...  \n",
      "530    100.40        6.93  \n",
      "532     93.99       14.99  \n",
      "534     64.99        5.82  \n",
      "535     70.00        3.00  \n",
      "542     50.23        1.77  \n",
      "\n",
      "[179 rows x 9 columns]\n"
     ]
    }
   ],
   "source": [
    "#Note: Latitude less than 0 degrees are cities in the Southern Hemisphere\n",
    "S_df = df.loc[(df[\"Lat\"]<0)]\n",
    "print(S_df)"
   ]
  },
  {
   "cell_type": "code",
   "execution_count": 50,
   "metadata": {},
   "outputs": [
    {
     "name": "stdout",
     "output_type": "stream",
     "text": [
      "The r-squared is: 0.5939610532350587\n"
     ]
    },
    {
     "data": {
      "image/png": "[encoded data removed]",
      "text/plain": [
       "<Figure size 432x288 with 1 Axes>"
      ]
     },
     "metadata": {
      "needs_background": "light"
     },
     "output_type": "display_data"
    },
    {
     "data": {
      "text/plain": [
       "<Figure size 432x288 with 0 Axes>"
      ]
     },
     "metadata": {},
     "output_type": "display_data"
    }
   ],
   "source": [
    "#x_values = data['bp']\n",
    "x_values = df[\"Lat\"]\n",
    "\n",
    "#y_values = data['1Y_Disease_Progress']\n",
    "y_values = df[\"Max Temp\"]\n",
    "\n",
    "#(slope, intercept, rvalue, pvalue, stderr) = linregress(x_values, y_values)\n",
    "(slope, intercept, rvalue, pvalue, stderr) = linregress(x_values, y_values)\n",
    "\n",
    "#regress_values = x_values * slope + intercept\n",
    "regress_values = x_values * slope + intercept\n",
    "\n",
    "#line_eq = \"y = \" + str(round(slope,2)) + \"x + \" + str(round(intercept,2))\n",
    "line_eq = \"y = \" + str(round(slope,2)) + \"x + \" + str(round(intercept,2))\n",
    "#plt.scatter(x_values,y_values)\n",
    "plt.scatter(x_values,y_values)\n",
    "\n",
    "#plt.plot(x_values,regress_values,\"r-\")\n",
    "plt.plot(x_values,regress_values,\"r-\")\n",
    "\n",
    "#plt.annotate(line_eq,(0,50),fontsize=15,color=\"red\")\n",
    "plt.annotate(line_eq,(0,50),fontsize=15,color=\"red\")\n",
    "\n",
    "#plt.xlabel('Normalized Blood Pressure')\n",
    "plt.xlabel(\"Latitude\")\n",
    "\n",
    "#plt.ylabel('1Y_Disease_Progress')\n",
    "plt.ylabel(\"Max Temp\")\n",
    "\n",
    "#print(f\"The r-squared is: {rvalue**2}\")\n",
    "print(f\"The r-squared is: {rvalue**2}\")\n",
    "\n",
    "plt.title (\"Northern Hemisphere Latitude vs. Max Temp\")\n",
    "#plt.show()\n",
    "plt.show()\n",
    "# save chart to file\n",
    "plt.savefig('lat_vs_temp_SH.png')"
   ]
  },
  {
   "cell_type": "code",
   "execution_count": 62,
   "metadata": {},
   "outputs": [
    {
     "name": "stdout",
     "output_type": "stream",
     "text": [
      "The further north we go the temperature decreases in the Northern Hemisphere\n"
     ]
    }
   ],
   "source": [
    "print(\"The further north we go the temperature decreases in the Northern Hemisphere\")"
   ]
  },
  {
   "cell_type": "code",
   "execution_count": 63,
   "metadata": {},
   "outputs": [
    {
     "name": "stdout",
     "output_type": "stream",
     "text": [
      "The r-squared is: 0.2968719402268682\n"
     ]
    },
    {
     "data": {
      "image/png": "[encoded data removed]",
      "text/plain": [
       "<Figure size 432x288 with 1 Axes>"
      ]
     },
     "metadata": {
      "needs_background": "light"
     },
     "output_type": "display_data"
    },
    {
     "data": {
      "text/plain": [
       "<Figure size 432x288 with 0 Axes>"
      ]
     },
     "metadata": {},
     "output_type": "display_data"
    }
   ],
   "source": [
    "\n",
    "#x_values = data['bp']\n",
    "x_values = S_df[\"Lat\"]\n",
    "\n",
    "#y_values = data['1Y_Disease_Progress']\n",
    "y_values = S_df[\"Max Temp\"]\n",
    "\n",
    "#(slope, intercept, rvalue, pvalue, stderr) = linregress(x_values, y_values)\n",
    "(slope, intercept, rvalue, pvalue, stderr) = linregress(x_values, y_values)\n",
    "\n",
    "#regress_values = x_values * slope + intercept\n",
    "regress_values = x_values * slope + intercept\n",
    "\n",
    "#line_eq = \"y = \" + str(round(slope,2)) + \"x + \" + str(round(intercept,2))\n",
    "line_eq = \"y = \" + str(round(slope,2)) + \"x + \" + str(round(intercept,2))\n",
    "#plt.scatter(x_values,y_values)\n",
    "plt.scatter(x_values,y_values)\n",
    "\n",
    "#plt.plot(x_values,regress_values,\"r-\")\n",
    "plt.plot(x_values,regress_values,\"r-\")\n",
    "\n",
    "#plt.annotate(line_eq,(0,50),fontsize=15,color=\"red\")\n",
    "plt.annotate(line_eq,(0,50),fontsize=15,color=\"red\")\n",
    "\n",
    "#plt.xlabel('Normalized Blood Pressure')\n",
    "plt.xlabel(\"Latitude\")\n",
    "\n",
    "#plt.ylabel('1Y_Disease_Progress')\n",
    "plt.ylabel(\"Max Temp\")\n",
    "\n",
    "#print(f\"The r-squared is: {rvalue**2}\")\n",
    "print(f\"The r-squared is: {rvalue**2}\")\n",
    "\n",
    "plt.title (\"Southern Hemisphere Latitude vs. Max Temp\")\n",
    "#plt.show()\n",
    "plt.show()\n",
    "# save chart to file\n",
    "plt.savefig('lat_vs_temp_NH.png')"
   ]
  },
  {
   "cell_type": "code",
   "execution_count": 64,
   "metadata": {},
   "outputs": [
    {
     "name": "stdout",
     "output_type": "stream",
     "text": [
      "Temperature increases as we get closer to the equator\n"
     ]
    }
   ],
   "source": [
    "print(\"Temperature increases as we get closer to the equator\")"
   ]
  },
  {
   "cell_type": "markdown",
   "metadata": {},
   "source": [
    "####  Northern Hemisphere - Humidity (%) vs. Latitude Linear Regression"
   ]
  },
  {
   "cell_type": "code",
   "execution_count": 65,
   "metadata": {},
   "outputs": [
    {
     "name": "stdout",
     "output_type": "stream",
     "text": [
      "The r-squared is: 0.06435705381395615\n"
     ]
    },
    {
     "data": {
      "image/png": "[encoded data removed]",
      "text/plain": [
       "<Figure size 432x288 with 1 Axes>"
      ]
     },
     "metadata": {
      "needs_background": "light"
     },
     "output_type": "display_data"
    },
    {
     "data": {
      "text/plain": [
       "<Figure size 432x288 with 0 Axes>"
      ]
     },
     "metadata": {},
     "output_type": "display_data"
    }
   ],
   "source": [
    "#x_values = data['bp']\n",
    "x_values = N_df[\"Lat\"]\n",
    "\n",
    "#y_values = data['1Y_Disease_Progress']\n",
    "y_values = N_df[\"Humidity\"]\n",
    "\n",
    "#(slope, intercept, rvalue, pvalue, stderr) = linregress(x_values, y_values)\n",
    "(slope, intercept, rvalue, pvalue, stderr) = linregress(x_values, y_values)\n",
    "\n",
    "#regress_values = x_values * slope + intercept\n",
    "regress_values = x_values * slope + intercept\n",
    "\n",
    "#line_eq = \"y = \" + str(round(slope,2)) + \"x + \" + str(round(intercept,2))\n",
    "line_eq = \"y = \" + str(round(slope,2)) + \"x + \" + str(round(intercept,2))\n",
    "#plt.scatter(x_values,y_values)\n",
    "plt.scatter(x_values,y_values)\n",
    "\n",
    "#plt.plot(x_values,regress_values,\"r-\")\n",
    "plt.plot(x_values,regress_values,\"r-\")\n",
    "\n",
    "#plt.annotate(line_eq,(0,50),fontsize=15,color=\"red\")\n",
    "plt.annotate(line_eq,(0,50),fontsize=15,color=\"red\")\n",
    "\n",
    "#plt.xlabel('Normalized Blood Pressure')\n",
    "plt.xlabel(\"Latitude\")\n",
    "\n",
    "#plt.ylabel('1Y_Disease_Progress')\n",
    "plt.ylabel(\"Humidity\")\n",
    "\n",
    "#print(f\"The r-squared is: {rvalue**2}\")\n",
    "print(f\"The r-squared is: {rvalue**2}\")\n",
    "\n",
    "plt.title (\"Northern Hemisphere Humidity vs. Latitude\")\n",
    "#plt.show()\n",
    "plt.show()\n",
    "# save chart to file\n",
    "plt.savefig('lat_vs_humidity_NH.png')"
   ]
  },
  {
   "cell_type": "code",
   "execution_count": 66,
   "metadata": {},
   "outputs": [
    {
     "name": "stdout",
     "output_type": "stream",
     "text": [
      "Humidity stays roughly about 60% in the Northern Hemisphere regardless of degrees latitude\n"
     ]
    }
   ],
   "source": [
    "print(\"Humidity stays roughly about 60% in the Northern Hemisphere regardless of degrees latitude\")"
   ]
  },
  {
   "cell_type": "markdown",
   "metadata": {},
   "source": [
    "####  Southern Hemisphere - Humidity (%) vs. Latitude Linear Regression"
   ]
  },
  {
   "cell_type": "code",
   "execution_count": 67,
   "metadata": {},
   "outputs": [
    {
     "name": "stdout",
     "output_type": "stream",
     "text": [
      "The r-squared is: 0.0424754453518242\n"
     ]
    },
    {
     "data": {
      "image/png": "[encoded data removed]",
      "text/plain": [
       "<Figure size 432x288 with 1 Axes>"
      ]
     },
     "metadata": {
      "needs_background": "light"
     },
     "output_type": "display_data"
    },
    {
     "data": {
      "text/plain": [
       "<Figure size 432x288 with 0 Axes>"
      ]
     },
     "metadata": {},
     "output_type": "display_data"
    }
   ],
   "source": [
    "#x_values = data['bp']\n",
    "x_values = S_df[\"Lat\"]\n",
    "\n",
    "#y_values = data['1Y_Disease_Progress']\n",
    "y_values = S_df[\"Humidity\"]\n",
    "\n",
    "#(slope, intercept, rvalue, pvalue, stderr) = linregress(x_values, y_values)\n",
    "(slope, intercept, rvalue, pvalue, stderr) = linregress(x_values, y_values)\n",
    "\n",
    "#regress_values = x_values * slope + intercept\n",
    "regress_values = x_values * slope + intercept\n",
    "\n",
    "#line_eq = \"y = \" + str(round(slope,2)) + \"x + \" + str(round(intercept,2))\n",
    "line_eq = \"y = \" + str(round(slope,2)) + \"x + \" + str(round(intercept,2))\n",
    "#plt.scatter(x_values,y_values)\n",
    "plt.scatter(x_values,y_values)\n",
    "\n",
    "#plt.plot(x_values,regress_values,\"r-\")\n",
    "plt.plot(x_values,regress_values,\"r-\")\n",
    "\n",
    "#plt.annotate(line_eq,(0,50),fontsize=15,color=\"red\")\n",
    "plt.annotate(line_eq,(0,50),fontsize=15,color=\"red\")\n",
    "\n",
    "#plt.xlabel('Normalized Blood Pressure')\n",
    "plt.xlabel(\"Latitude\")\n",
    "\n",
    "#plt.ylabel('1Y_Disease_Progress')\n",
    "plt.ylabel(\"Humidity\")\n",
    "\n",
    "#print(f\"The r-squared is: {rvalue**2}\")\n",
    "print(f\"The r-squared is: {rvalue**2}\")\n",
    "\n",
    "plt.title (\"Southern Hemisphere Latitude vs. Humidity\")\n",
    "#plt.show()\n",
    "plt.show()\n",
    "# save chart to file\n",
    "plt.savefig('lat_vs_Humidity_SH.png')"
   ]
  },
  {
   "cell_type": "code",
   "execution_count": 68,
   "metadata": {},
   "outputs": [
    {
     "name": "stdout",
     "output_type": "stream",
     "text": [
      "Humdity stays roughly above 60% regardless of degrees latitude in the southern hemisphere\n"
     ]
    }
   ],
   "source": [
    "print(\"Humdity stays roughly above 60% regardless of degrees latitude in the southern hemisphere\")"
   ]
  },
  {
   "cell_type": "markdown",
   "metadata": {},
   "source": [
    "####  Northern Hemisphere - Cloudiness (%) vs. Latitude Linear Regression"
   ]
  },
  {
   "cell_type": "code",
   "execution_count": 69,
   "metadata": {},
   "outputs": [
    {
     "name": "stdout",
     "output_type": "stream",
     "text": [
      "The r-squared is: 0.033390345482938635\n"
     ]
    },
    {
     "data": {
      "image/png": "[encoded data removed]",
      "text/plain": [
       "<Figure size 432x288 with 1 Axes>"
      ]
     },
     "metadata": {
      "needs_background": "light"
     },
     "output_type": "display_data"
    },
    {
     "data": {
      "text/plain": [
       "<Figure size 432x288 with 0 Axes>"
      ]
     },
     "metadata": {},
     "output_type": "display_data"
    }
   ],
   "source": [
    "#x_values = data['bp']\n",
    "x_values = N_df[\"Lat\"]\n",
    "\n",
    "#y_values = data['1Y_Disease_Progress']\n",
    "y_values = N_df[\"Cloudiness\"]\n",
    "\n",
    "#(slope, intercept, rvalue, pvalue, stderr) = linregress(x_values, y_values)\n",
    "(slope, intercept, rvalue, pvalue, stderr) = linregress(x_values, y_values)\n",
    "\n",
    "#regress_values = x_values * slope + intercept\n",
    "regress_values = x_values * slope + intercept\n",
    "\n",
    "#line_eq = \"y = \" + str(round(slope,2)) + \"x + \" + str(round(intercept,2))\n",
    "line_eq = \"y = \" + str(round(slope,2)) + \"x + \" + str(round(intercept,2))\n",
    "#plt.scatter(x_values,y_values)\n",
    "plt.scatter(x_values,y_values)\n",
    "\n",
    "#plt.plot(x_values,regress_values,\"r-\")\n",
    "plt.plot(x_values,regress_values,\"r-\")\n",
    "\n",
    "#plt.annotate(line_eq,(0,50),fontsize=15,color=\"red\")\n",
    "plt.annotate(line_eq,(0,50),fontsize=15,color=\"red\")\n",
    "\n",
    "#plt.xlabel('Normalized Blood Pressure')\n",
    "plt.xlabel(\"Latitude\")\n",
    "\n",
    "#plt.ylabel('1Y_Disease_Progress')\n",
    "plt.ylabel(\"Cloudiness\")\n",
    "\n",
    "#print(f\"The r-squared is: {rvalue**2}\")\n",
    "print(f\"The r-squared is: {rvalue**2}\")\n",
    "\n",
    "plt.title (\"Northern Hemisphere Latitude vs. Cloudiness\")\n",
    "#plt.show()\n",
    "plt.show()\n",
    "# save chart to file\n",
    "plt.savefig('lat_vs_cloud_NH.png')"
   ]
  },
  {
   "cell_type": "code",
   "execution_count": 70,
   "metadata": {},
   "outputs": [
    {
     "name": "stdout",
     "output_type": "stream",
     "text": [
      "Cloudiness shows very little correlation to latitude in the northern hemisphere\n"
     ]
    }
   ],
   "source": [
    "print(\"Cloudiness shows very little correlation to latitude in the northern hemisphere\")"
   ]
  },
  {
   "cell_type": "markdown",
   "metadata": {},
   "source": [
    "####  Southern Hemisphere - Cloudiness (%) vs. Latitude Linear Regression"
   ]
  },
  {
   "cell_type": "code",
   "execution_count": 71,
   "metadata": {},
   "outputs": [
    {
     "name": "stdout",
     "output_type": "stream",
     "text": [
      "The r-squared is: 0.027829071235569908\n"
     ]
    },
    {
     "data": {
      "image/png": "[encoded data removed]",
      "text/plain": [
       "<Figure size 432x288 with 1 Axes>"
      ]
     },
     "metadata": {
      "needs_background": "light"
     },
     "output_type": "display_data"
    },
    {
     "data": {
      "text/plain": [
       "<Figure size 432x288 with 0 Axes>"
      ]
     },
     "metadata": {},
     "output_type": "display_data"
    }
   ],
   "source": [
    "#x_values = data['bp']\n",
    "x_values = S_df[\"Lat\"]\n",
    "\n",
    "#y_values = data['1Y_Disease_Progress']\n",
    "y_values = S_df[\"Cloudiness\"]\n",
    "\n",
    "#(slope, intercept, rvalue, pvalue, stderr) = linregress(x_values, y_values)\n",
    "(slope, intercept, rvalue, pvalue, stderr) = linregress(x_values, y_values)\n",
    "\n",
    "#regress_values = x_values * slope + intercept\n",
    "regress_values = x_values * slope + intercept\n",
    "\n",
    "#line_eq = \"y = \" + str(round(slope,2)) + \"x + \" + str(round(intercept,2))\n",
    "line_eq = \"y = \" + str(round(slope,2)) + \"x + \" + str(round(intercept,2))\n",
    "#plt.scatter(x_values,y_values)\n",
    "plt.scatter(x_values,y_values)\n",
    "\n",
    "#plt.plot(x_values,regress_values,\"r-\")\n",
    "plt.plot(x_values,regress_values,\"r-\")\n",
    "\n",
    "#plt.annotate(line_eq,(0,50),fontsize=15,color=\"red\")\n",
    "plt.annotate(line_eq,(0,50),fontsize=15,color=\"red\")\n",
    "\n",
    "#plt.xlabel('Normalized Blood Pressure')\n",
    "plt.xlabel(\"Latitude\")\n",
    "\n",
    "#plt.ylabel('1Y_Disease_Progress')\n",
    "plt.ylabel(\"Cloudiness\")\n",
    "\n",
    "#print(f\"The r-squared is: {rvalue**2}\")\n",
    "print(f\"The r-squared is: {rvalue**2}\")\n",
    "\n",
    "plt.title (\"Southern Hemisphere Latitude vs.Cloudiness\")\n",
    "#plt.show()\n",
    "plt.show()\n",
    "# save chart to file\n",
    "plt.savefig('lat_vs_cloud_SH.png')"
   ]
  },
  {
   "cell_type": "code",
   "execution_count": 72,
   "metadata": {},
   "outputs": [
    {
     "name": "stdout",
     "output_type": "stream",
     "text": [
      "There is very little correlation between latitude and cloudiness in the Southern Hemisphere\n"
     ]
    }
   ],
   "source": [
    "print(\"There is very little correlation between latitude and cloudiness in the Southern Hemisphere\")"
   ]
  },
  {
   "cell_type": "markdown",
   "metadata": {},
   "source": [
    "####  Northern Hemisphere - Wind Speed (mph) vs. Latitude Linear Regression"
   ]
  },
  {
   "cell_type": "code",
   "execution_count": 73,
   "metadata": {},
   "outputs": [
    {
     "name": "stdout",
     "output_type": "stream",
     "text": [
      "The r-squared is: 0.0050522032867466645\n"
     ]
    },
    {
     "data": {
      "image/png": "[encoded data removed]",
      "text/plain": [
       "<Figure size 432x288 with 1 Axes>"
      ]
     },
     "metadata": {
      "needs_background": "light"
     },
     "output_type": "display_data"
    },
    {
     "data": {
      "text/plain": [
       "<Figure size 432x288 with 0 Axes>"
      ]
     },
     "metadata": {},
     "output_type": "display_data"
    }
   ],
   "source": [
    "#x_values = data['bp']\n",
    "x_values = N_df[\"Lat\"]\n",
    "\n",
    "#y_values = data['1Y_Disease_Progress']\n",
    "y_values = N_df[\"Wind Speed\"]\n",
    "\n",
    "#(slope, intercept, rvalue, pvalue, stderr) = linregress(x_values, y_values)\n",
    "(slope, intercept, rvalue, pvalue, stderr) = linregress(x_values, y_values)\n",
    "\n",
    "#regress_values = x_values * slope + intercept\n",
    "regress_values = x_values * slope + intercept\n",
    "\n",
    "#line_eq = \"y = \" + str(round(slope,2)) + \"x + \" + str(round(intercept,2))\n",
    "line_eq = \"y = \" + str(round(slope,2)) + \"x + \" + str(round(intercept,2))\n",
    "#plt.scatter(x_values,y_values)\n",
    "plt.scatter(x_values,y_values)\n",
    "\n",
    "#plt.plot(x_values,regress_values,\"r-\")\n",
    "plt.plot(x_values,regress_values,\"r-\")\n",
    "\n",
    "#plt.annotate(line_eq,(0,50),fontsize=15,color=\"red\")\n",
    "plt.annotate(line_eq,(0,50),fontsize=15,color=\"red\")\n",
    "\n",
    "#plt.xlabel('Normalized Blood Pressure')\n",
    "plt.xlabel(\"Latitude\")\n",
    "\n",
    "#plt.ylabel('1Y_Disease_Progress')\n",
    "plt.ylabel(\"Wind Speed\")\n",
    "\n",
    "#print(f\"The r-squared is: {rvalue**2}\")\n",
    "print(f\"The r-squared is: {rvalue**2}\")\n",
    "\n",
    "plt.title (\"Northern Hemisphere Latitude vs. Wind Speed\")\n",
    "#plt.show()\n",
    "plt.show()\n",
    "# save chart to file\n",
    "plt.savefig('lat_vs_wind_NH.png')"
   ]
  },
  {
   "cell_type": "code",
   "execution_count": 74,
   "metadata": {},
   "outputs": [
    {
     "name": "stdout",
     "output_type": "stream",
     "text": [
      "Wind Speed stays relatively the same regardless of the degrees of latitude in the northern hemisphere\n"
     ]
    }
   ],
   "source": [
    "print(\"Wind Speed stays relatively the same regardless of the degrees of latitude in the northern hemisphere\")"
   ]
  },
  {
   "cell_type": "markdown",
   "metadata": {},
   "source": [
    "####  Southern Hemisphere - Wind Speed (mph) vs. Latitude Linear Regression"
   ]
  },
  {
   "cell_type": "code",
   "execution_count": 75,
   "metadata": {},
   "outputs": [
    {
     "name": "stdout",
     "output_type": "stream",
     "text": [
      "The r-squared is: 0.08341965867380446\n"
     ]
    },
    {
     "data": {
      "image/png": "[encoded data removed]",
      "text/plain": [
       "<Figure size 432x288 with 1 Axes>"
      ]
     },
     "metadata": {
      "needs_background": "light"
     },
     "output_type": "display_data"
    },
    {
     "data": {
      "text/plain": [
       "<Figure size 432x288 with 0 Axes>"
      ]
     },
     "metadata": {},
     "output_type": "display_data"
    }
   ],
   "source": [
    "##x_values = data['bp']\n",
    "x_values = S_df[\"Lat\"]\n",
    "\n",
    "#y_values = data['1Y_Disease_Progress']\n",
    "y_values = S_df[\"Wind Speed\"]\n",
    "\n",
    "#(slope, intercept, rvalue, pvalue, stderr) = linregress(x_values, y_values)\n",
    "(slope, intercept, rvalue, pvalue, stderr) = linregress(x_values, y_values)\n",
    "\n",
    "#regress_values = x_values * slope + intercept\n",
    "regress_values = x_values * slope + intercept\n",
    "\n",
    "#line_eq = \"y = \" + str(round(slope,2)) + \"x + \" + str(round(intercept,2))\n",
    "line_eq = \"y = \" + str(round(slope,2)) + \"x + \" + str(round(intercept,2))\n",
    "#plt.scatter(x_values,y_values)\n",
    "plt.scatter(x_values,y_values)\n",
    "\n",
    "#plt.plot(x_values,regress_values,\"r-\")\n",
    "plt.plot(x_values,regress_values,\"r-\")\n",
    "\n",
    "#plt.annotate(line_eq,(0,50),fontsize=15,color=\"red\")\n",
    "plt.annotate(line_eq,(0,50),fontsize=15,color=\"red\")\n",
    "\n",
    "#plt.xlabel('Normalized Blood Pressure')\n",
    "plt.xlabel(\"Latitude\")\n",
    "\n",
    "#plt.ylabel('1Y_Disease_Progress')\n",
    "plt.ylabel(\"Wind Speed\")\n",
    "\n",
    "#print(f\"The r-squared is: {rvalue**2}\")\n",
    "print(f\"The r-squared is: {rvalue**2}\")\n",
    "\n",
    "plt.title (\"Southern Hemisphere Latitude vs. Wind Speed\")\n",
    "#plt.show()\n",
    "plt.show()\n",
    "# save chart to file\n",
    "plt.savefig('lat_vs_wind_SH.png')"
   ]
  },
  {
   "cell_type": "code",
   "execution_count": 76,
   "metadata": {},
   "outputs": [
    {
     "name": "stdout",
     "output_type": "stream",
     "text": [
      "Wind Speed slightly decreases as we approach the equator in the Southern Hemisphere\n"
     ]
    }
   ],
   "source": [
    "print(\"Wind Speed slightly decreases as we approach the equator in the Southern Hemisphere\")"
   ]
  },
  {
   "cell_type": "code",
   "execution_count": null,
   "metadata": {},
   "outputs": [],
   "source": []
  }
 ],
 "metadata": {
  "anaconda-cloud": {},
  "kernel_info": {
   "name": "python3"
  },
  "kernelspec": {
   "display_name": "Python 3",
   "language": "python",
   "name": "python3"
  },
  "language_info": {
   "codemirror_mode": {
    "name": "ipython",
    "version": 3
   },
   "file_extension": ".py",
   "mimetype": "text/x-python",
   "name": "python",
   "nbconvert_exporter": "python",
   "pygments_lexer": "ipython3",
   "version": "3.8.3"
  },
  "latex_envs": {
   "LaTeX_envs_menu_present": true,
   "autoclose": false,
   "autocomplete": true,
   "bibliofile": "biblio.bib",
   "cite_by": "apalike",
   "current_citInitial": 1,
   "eqLabelWithNumbers": true,
   "eqNumInitial": 1,
   "hotkeys": {
    "equation": "Ctrl-E",
    "itemize": "Ctrl-I"
   },
   "labels_anchors": false,
   "latex_user_defs": false,
   "report_style_numbering": false,
   "user_envs_cfg": false
  },
  "nteract": {
   "version": "0.12.3"
  }
 },
 "nbformat": 4,
 "nbformat_minor": 2
}
